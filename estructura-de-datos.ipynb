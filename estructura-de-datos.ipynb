{
 "cells": [
  {
   "cell_type": "code",
   "execution_count": 2,
   "metadata": {},
   "outputs": [],
   "source": [
    "variable = 'esto es un texto'\n",
    "numero1 = 2\n",
    "booleana = True\n",
    "flotante = 3.14"
   ]
  },
  {
   "cell_type": "code",
   "execution_count": 4,
   "metadata": {},
   "outputs": [
    {
     "name": "stdout",
     "output_type": "stream",
     "text": [
      "esto es un texto 2 True 3.14\n",
      "se imprime la variable string esto es un texto, integer 2, boolean True, float 3.14\n"
     ]
    }
   ],
   "source": [
    "print(variable, numero1, booleana, flotante)\n",
    "print(f'se imprime la variable string {variable}, integer {numero1}, boolean {booleana}, float {flotante}')"
   ]
  },
  {
   "cell_type": "code",
   "execution_count": 5,
   "metadata": {},
   "outputs": [
    {
     "name": "stdout",
     "output_type": "stream",
     "text": [
      "su contraseña es 12345\n"
     ]
    }
   ],
   "source": [
    "# log in\n",
    "\n",
    "password = input('Introduzca su contraseña')\n",
    "print(f'su contraseña es {password}')"
   ]
  },
  {
   "cell_type": "code",
   "execution_count": 6,
   "metadata": {},
   "outputs": [
    {
     "data": {
      "text/plain": [
       "5"
      ]
     },
     "execution_count": 6,
     "metadata": {},
     "output_type": "execute_result"
    }
   ],
   "source": [
    "#type casting\n",
    "\n",
    "x = input('numero')\n",
    "x = int(x)\n",
    "x + 2"
   ]
  },
  {
   "cell_type": "code",
   "execution_count": 7,
   "metadata": {},
   "outputs": [
    {
     "name": "stdout",
     "output_type": "stream",
     "text": [
      "Su nombre es kenny \n",
      " su dni es 1020304050 \n",
      " su edad es 20\n"
     ]
    }
   ],
   "source": [
    "# Escribe un programa que solicite el nombre, el DNI y la edad, lo alamecene en variables distintas y lo muestre con un mensaje de confirmación\n",
    "Nombre = input('Escriba su nombre:')\n",
    "dni = int(input('Digite su dni: '))\n",
    "edad = int(input('Digite su edad: '))\n",
    "print(f'Su nombre es {Nombre} \\n su dni es {dni} \\n su edad es {edad}')\n"
   ]
  },
  {
   "cell_type": "code",
   "execution_count": null,
   "metadata": {},
   "outputs": [],
   "source": [
    "# Programa que calcule el area de un triangulo solicitandole al usuario la información necesaria\n",
    "# A = (b*h)/2\n",
    "\n"
   ]
  },
  {
   "cell_type": "code",
   "execution_count": 46,
   "metadata": {},
   "outputs": [
    {
     "name": "stdout",
     "output_type": "stream",
     "text": [
      "la palabra python esta en la posicion 41\n"
     ]
    }
   ],
   "source": [
    "# Definir la variable sentence\n",
    "sentence = 'estamos aprendiendo ciencia de datos con python'\n",
    "#ponerla en mayuscula\n",
    "sentence.upper()\n",
    "#ponerla en minuscula\n",
    "sentence.lower()\n",
    "#ponerla en mayuscula y minuscula\n",
    "sentence.swapcase()\n",
    "#slicing o indexación\n",
    "sentence[2:20]\n",
    "#slicing o indexación con saltos\n",
    "sentence[2:20:2]\n",
    "#saber en que posicion esta la palabra 'python'\n",
    "sentence.find('python')\n",
    "#saber en que posicion esta la palabra python con condicionales\n",
    "if sentence.find('python') != -1:\n",
    "    print(f'la palabra python esta en la posicion {sentence.find('python')}')\n"
   ]
  }
 ],
 "metadata": {
  "kernelspec": {
   "display_name": "Python 3",
   "language": "python",
   "name": "python3"
  },
  "language_info": {
   "codemirror_mode": {
    "name": "ipython",
    "version": 3
   },
   "file_extension": ".py",
   "mimetype": "text/x-python",
   "name": "python",
   "nbconvert_exporter": "python",
   "pygments_lexer": "ipython3",
   "version": "3.12.4"
  }
 },
 "nbformat": 4,
 "nbformat_minor": 2
}
